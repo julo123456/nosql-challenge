{
 "cells": [
  {
   "cell_type": "markdown",
   "id": "9a57c4c6",
   "metadata": {},
   "source": [
    "# Eat Safe, Love"
   ]
  },
  {
   "cell_type": "markdown",
   "id": "064ef857",
   "metadata": {},
   "source": [
    "## Notebook Set Up"
   ]
  },
  {
   "cell_type": "code",
   "execution_count": null,
   "id": "3ecdd008",
   "metadata": {},
   "outputs": [],
   "source": [
    "# Import dependencies\n",
    "from pymongo import MongoClient\n",
    "from pprint import pprint"
   ]
  },
  {
   "cell_type": "code",
   "execution_count": null,
   "id": "59390c4a",
   "metadata": {},
   "outputs": [],
   "source": [
    "# Create an instance of MongoClient\n",
    "mongo = MongoClient(port=27017)"
   ]
  },
  {
   "cell_type": "code",
   "execution_count": null,
   "id": "71e373c1",
   "metadata": {},
   "outputs": [],
   "source": [
    "# assign the uk_food database to a variable name\n",
    "db = mongo['uk_food']"
   ]
  },
  {
   "cell_type": "code",
   "execution_count": null,
   "id": "18ab463c",
   "metadata": {},
   "outputs": [],
   "source": [
    "# review the collections in our database\n",
    "print(db.list_collection_names())"
   ]
  },
  {
   "cell_type": "code",
   "execution_count": null,
   "id": "11c9f11b",
   "metadata": {},
   "outputs": [],
   "source": [
    "# assign the collection to a variable\n",
    "establishments = db['establishments']"
   ]
  },
  {
   "cell_type": "markdown",
   "id": "d5671434",
   "metadata": {},
   "source": [
    "## Part 3: Exploratory Analysis\n",
    "Unless otherwise stated, for each question: \n",
    "* Use `count_documents` to display the number of documents contained in the result.\n",
    "* Display the first document in the results using `pprint`.\n",
    "* Convert the result to a Pandas DataFrame, print the number of rows in the DataFrame, and display the first 10 rows."
   ]
  },
  {
   "cell_type": "markdown",
   "id": "314bd884",
   "metadata": {},
   "source": [
    "### 1. Which establishments have a hygiene score equal to 20?"
   ]
  },
  {
   "cell_type": "code",
   "execution_count": null,
   "id": "c2da7648",
   "metadata": {},
   "outputs": [],
   "source": [
    "# Find the documents in establishments collection with a hygiene score of 20\n",
    "query_hygiene = {'scores.Hygiene' : 20}\n",
    "\n",
    "# Use count_documents to display the number of documents in the result\n",
    "results_hygiene =establishments.count_documents(query_hygiene)\n",
    "results_hygiene\n",
    "# Display the first document in the results using pprint\n",
    "# pprint(establishments.find_one(query_hygiene))\n"
   ]
  },
  {
   "cell_type": "code",
   "execution_count": null,
   "id": "a6e5cece",
   "metadata": {},
   "outputs": [],
   "source": [
    "hygiene_20 = list(establishments.find(query_hygiene))\n"
   ]
  },
  {
   "cell_type": "code",
   "execution_count": null,
   "id": "764d03e1",
   "metadata": {},
   "outputs": [],
   "source": [
    "# Convert the result to a Pandas DataFrame\n",
    "hygiene_df = pd.DataFrame(hygiene_20)\n",
    "\n",
    "# Display the number of rows in the DataFrame\n",
    "print(\"Rows in Hygiene DataFrame:\", len(hygiene_20))\n",
    "\n",
    "# Display the first 10 rows of the DataFrame\n",
    "hygiene_df.head(10)"
   ]
  },
  {
   "cell_type": "code",
   "execution_count": null,
   "id": "4131be43",
   "metadata": {},
   "outputs": [],
   "source": [
    "hygiene_df.info()"
   ]
  },
  {
   "cell_type": "markdown",
   "id": "0ef4395a",
   "metadata": {},
   "source": [
    "### 2. Which establishments in London have a `RatingValue` greater than or equal to 4?"
   ]
  },
  {
   "cell_type": "code",
   "execution_count": null,
   "id": "93c63829",
   "metadata": {},
   "outputs": [],
   "source": [
    "# Find the establishments with London as the Local Authority and has a RatingValue greater than or equal to 4.\n",
    "query_RatingValue = {'RatingValue':{'$gte':4}}\n",
    "\n",
    "# Use count_documents to display the number of documents in the result\n",
    "results_RatingValue = establishments.count_documents(query_RatingValue)\n",
    "\n",
    "# Display the first document in the results using pprint\n",
    "pprint(establishments.find_one(query_RatingValue))\n"
   ]
  },
  {
   "cell_type": "code",
   "execution_count": null,
   "id": "57a24340",
   "metadata": {},
   "outputs": [],
   "source": [
    "RatingValue_4 = list(establishments.find(query_RatingValue))"
   ]
  },
  {
   "cell_type": "code",
   "execution_count": null,
   "id": "07e24ccb",
   "metadata": {},
   "outputs": [],
   "source": [
    "# Convert the result to a Pandas DataFrame\n",
    "RatingValue_df = pd.DataFrame(RatingValue_4)\n",
    "\n",
    "# Display the number of rows in the DataFrame\n",
    "print(\"Rows in RatingValue DataFrame :\", len(RatingValue_4))\n",
    "\n",
    "# Display the first 10 rows of the DataFrame\n",
    "RatingValue_df.head(5)"
   ]
  },
  {
   "cell_type": "code",
   "execution_count": null,
   "id": "2f4880da",
   "metadata": {},
   "outputs": [],
   "source": [
    "RatingValue_df.info()"
   ]
  },
  {
   "attachments": {},
   "cell_type": "markdown",
   "id": "4e570caf",
   "metadata": {},
   "source": [
    "### 3. What are the top 5 establishments with a `RatingValue` rating value of 5, sorted by lowest hygiene score, nearest to the new restaurant added, \"Penang Flavours\"?"
   ]
  },
  {
   "cell_type": "code",
   "execution_count": null,
   "id": "a6ad16f7",
   "metadata": {},
   "outputs": [],
   "source": [
    "# Search within 0.01 degree on either side of the latitude and longitude.\n",
    "# Rating value must equal 5\n",
    "# Sort by hygiene score\n",
    "\n",
    "degree_search = 0.01\n",
    "latitude = 51.49014200\n",
    "longitude = 0.08384000\n",
    "\n",
    "match_query = {'RatingValue':5,\n",
    "                         'latitude':{'$gte':latitude-degree_search, '$lte': latitude + degree_search},\n",
    "                         'longitude':{'$gte':longitude-degree_search, '$lte':longitude + degree_search}}\n",
    "\n",
    "sort =  [(\"score.Hygiene\",1)]\n",
    "\n",
    "establishments.find(match_query)\n",
    "\n",
    "results_RatingValue_5 = list(establishments.find(match_query).sort(sort))\n",
    "pprint(results_RatingValue_5)\n"
   ]
  },
  {
   "cell_type": "code",
   "execution_count": null,
   "id": "8e88a9ad",
   "metadata": {},
   "outputs": [],
   "source": [
    "# Display the number of rows in the DataFrame\n",
    "print(\"Number of rows:\", len(results_RatingValue_5))\n",
    "\n",
    "# Display the first 10 rows of the DataFrame\n",
    "pprint(results_RatingValue_5[0:10])"
   ]
  },
  {
   "cell_type": "code",
   "execution_count": null,
   "id": "eca0e8fa",
   "metadata": {},
   "outputs": [],
   "source": [
    "# Convert result to Pandas DataFrame\n",
    "results_RatingValue_5_df = pd.DataFrame(results_RatingValue_5)\n",
    "results_RatingValue_5_df.head(5)"
   ]
  },
  {
   "cell_type": "markdown",
   "id": "67281254",
   "metadata": {},
   "source": [
    "### 4. How many establishments in each Local Authority area have a hygiene score of 0?"
   ]
  },
  {
   "cell_type": "code",
   "execution_count": null,
   "id": "4eeb227e",
   "metadata": {},
   "outputs": [],
   "source": [
    "# Create a pipeline that: \n",
    "# 1. Matches establishments with a hygiene score of 0\n",
    "# 2. Groups the matches by Local Authority\n",
    "# 3. Sorts the matches from highest to lowest\n",
    "\n",
    "match_query = {'$match':{'scores.Hygiene':0}}    ##1 \n",
    "\n",
    "group_query = {'$group':{'_id':'$LocalAuthorityName',  ##2\n",
    "                         'count':{'$sum':1}}\n",
    "\n",
    "            }\n",
    "\n",
    "sort_query = {'$sort':{'count':-1}}    ##3\n",
    "\n",
    "\n",
    "# Create Pipeline\n",
    "pipeline = [match_query, group_query, sort_query]\n",
    "\n",
    "# Print the number of documents in results\n",
    "result_0 = list(establishments.aggregate(pipeline))\n",
    "\n",
    "# # Print the first 10 results\n",
    "pprint(result_0)\n"
   ]
  },
  {
   "cell_type": "code",
   "execution_count": null,
   "id": "d8aab364",
   "metadata": {},
   "outputs": [],
   "source": [
    "# Display the number of rows in the DataFrame\n",
    "print(\"Number of rows:\",len(result_0))\n",
    "\n",
    "# Display the first 10 rows of the DataFrame\n",
    "pprint(result_0[0:10])\n"
   ]
  },
  {
   "cell_type": "code",
   "execution_count": null,
   "id": "626d208d",
   "metadata": {},
   "outputs": [],
   "source": [
    "# Convert the result to a Pandas DataFrame\n",
    "result_0_df = pd.DataFrame(result_0)"
   ]
  }
 ],
 "metadata": {
  "kernelspec": {
   "display_name": "Python 3 (ipykernel)",
   "language": "python",
   "name": "python3"
  },
  "language_info": {
   "codemirror_mode": {
    "name": "ipython",
    "version": 3
   },
   "file_extension": ".py",
   "mimetype": "text/x-python",
   "name": "python",
   "nbconvert_exporter": "python",
   "pygments_lexer": "ipython3",
   "version": "3.10.4"
  }
 },
 "nbformat": 4,
 "nbformat_minor": 5
}
